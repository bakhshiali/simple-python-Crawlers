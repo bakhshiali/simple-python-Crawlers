{
 "cells": [
  {
   "cell_type": "markdown",
   "metadata": {},
   "source": [
    "Notes:\n",
    "Xpath =//tagname[@Attribute=’value’]\n",
    "\n",
    "Wherein:\n",
    "\n",
    "    //: Used to select the current node.\n",
    "    tagname: Name of the tag of a particular node.\n",
    "    @: Used to select the select attribute.\n",
    "    Attribute: Name of the attribute of the node.\n",
    "    Value: Value of the attribute"
   ]
  },
  {
   "cell_type": "code",
   "execution_count": 1,
   "metadata": {},
   "outputs": [],
   "source": [
    "# download geckodriver from https://github.com/mozilla/geckodriver/releases\n",
    "#cut to path: C:\\ProgramData\\Anaconda3\\Lib\\site-packages\n",
    "from selenium import webdriver\n",
    "from selenium.webdriver.common.keys import Keys \n",
    "import time\n",
    "from selenium.webdriver.common.by import By\n",
    "from selenium.webdriver.support.ui import WebDriverWait\n",
    "from selenium.webdriver.support import expected_conditions as ec\n",
    "\n",
    "#searchme function tries to act as a bot for searching specific keywords that we want.\n",
    "def searchme(url):\n",
    "    #creating a driver of Firefox webdriver to acess the browser\n",
    "    driver = webdriver.Firefox()\n",
    "    #trying the connection and search by accessing the google search\n",
    "    driver.get(\"https://www.google.com/\")\n",
    "    try:\n",
    "        #accepting the language or terms that appear before accessing the search bar\n",
    "        accept_all=driver.find_element(By.ID,\"L2AGLb\")\n",
    "        accept_all.click()\n",
    "    except:\n",
    "        pass\n",
    "    #find and access to the search bar\n",
    "    search = driver.find_element(By.NAME, \"q\")#find_element_by_name(\"q\")\n",
    "    #clear the search bar\n",
    "    search.clear()\n",
    "    #Enter the key you want to search about\n",
    "    search.send_keys(\"Inv. ali bakhshi\")\n",
    "    #press/invoke the search key/function\n",
    "    search.send_keys(Keys.RETURN)\n",
    "    #let the network respond, so we wait...\n",
    "    time.sleep(3)\n",
    "    assert \"No results found.\" not in driver.page_source\n",
    "\n",
    "    #wait to access to the clickable element (i.e. loading the page properly)\n",
    "    #Then find DOM (Document Object Model) elements that refer to organic results (e.g. ignoring the Local 3 Pack,\n",
    "    #Paid Ads, Knowledge Graph and Knowledge Panel, Image Pack, Video Pack, Featured Snippet, Shopping Pack,\n",
    "    #News Pack, Jobs Pack, People Also Ask, Related Searches, ... .\n",
    "    ##Note: google class, id, ... attributes might be changed!\n",
    "    men_menu = WebDriverWait(driver, 10).until(ec.element_to_be_clickable((By.XPATH, '//*[@class=\"yuRUbf\"]/a[@href]')))\n",
    "    #try 5 times (pages) to find the links we are looking for.\n",
    "    for i in range(5):\n",
    "        try:\n",
    "            #extract organic results and list them\n",
    "            organic_result = driver.find_elements(By.XPATH,'//*[@class=\"yuRUbf\"]/a[@href]')\n",
    "            url_lists = []\n",
    "            #extract the links with \"href\"\n",
    "            for organic_url in organic_result:\n",
    "                #if not 'google' in organic_url.get_attribute(\"href\"):\n",
    "                url_lists.append(organic_url.get_attribute(\"href\"))\n",
    "            #print to see what we found!\n",
    "            print(url_lists)\n",
    "            #select the link that starts with a specific url to call click\n",
    "            site_click=[urls.startswith(url) for urls in url_lists].index(True)\n",
    "            break\n",
    "        except:\n",
    "            #if not found, print the page number\n",
    "            print(\"Not in page \",i+1)\n",
    "            #click to navigate to next page\n",
    "            WebDriverWait(driver, 20).until(ec.visibility_of_element_located((By.XPATH, '//*[@class=\"d6cvqb BBwThe\"]/a[@href]'))).click()\n",
    "    #click on specific url to load the website \n",
    "    driver.execute_script(\"arguments[0].click();\",organic_result[site_click])\n",
    "    #halt/wait 10 seconds\n",
    "    time.sleep(10)\n",
    "    #close the browser\n",
    "    driver.quit()"
   ]
  },
  {
   "cell_type": "code",
   "execution_count": 2,
   "metadata": {},
   "outputs": [
    {
     "name": "stdout",
     "output_type": "stream",
     "text": [
      "['https://ir.linkedin.com/in/ali-bakhshi-?trk=public_profile_browsemap', 'https://bakhshiali.github.io/', 'https://www.researchgate.net/profile/Ali-Bakhshi-6', 'https://scholar.google.com/citations?user=aWRyt90AAAAJ&hl=en', 'https://www.youtube.com/channel/UC32GFRC5rMDAcaRytAmhyDg', 'https://usern.tums.ac.ir/User/CV/AliBakhshi', 'https://en.civilica.com/p/241671/', 'https://www.instagram.com/ali.bakhshi1995/', 'https://acpol2.army.mil/fasclass/search_fs/search_fs_output.asp?fcp=zutpk3eFRtaToL2jorZGuam0buidbYKclapZiGC7hLBpZYWZmqo%3D']\n"
     ]
    }
   ],
   "source": [
    "url=\"https://bakhshiali\"\n",
    "searchme(url)"
   ]
  }
 ],
 "metadata": {
  "kernelspec": {
   "display_name": "Python 3 (ipykernel)",
   "language": "python",
   "name": "python3"
  },
  "language_info": {
   "codemirror_mode": {
    "name": "ipython",
    "version": 3
   },
   "file_extension": ".py",
   "mimetype": "text/x-python",
   "name": "python",
   "nbconvert_exporter": "python",
   "pygments_lexer": "ipython3",
   "version": "3.10.8"
  }
 },
 "nbformat": 4,
 "nbformat_minor": 4
}
