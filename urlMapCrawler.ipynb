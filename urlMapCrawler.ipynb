{
 "cells": [
  {
   "cell_type": "code",
   "execution_count": 1,
   "metadata": {
    "scrolled": true
   },
   "outputs": [
    {
     "name": "stderr",
     "output_type": "stream",
     "text": [
      "2023/01, 14:35, 2401464476, run, INFO: Crawled: https://bakhshiali.github.io/publication\n",
      "2023/01, 14:35, 2401464476, run, INFO: Crawled: https://bakhshiali.github.io/publications/\n",
      "2023/01, 14:35, 2401464476, run, INFO: Crawled: https://bakhshiali.github.io/publication/8\n",
      "2023/01, 14:35, 2401464476, run, INFO: Crawled: https://bakhshiali.github.io/publication/7\n",
      "2023/01, 14:35, 2401464476, run, INFO: Crawled: https://bakhshiali.github.io/publication/6\n",
      "2023/01, 14:35, 2401464476, run, INFO: Crawled: https://bakhshiali.github.io/publication/5\n",
      "2023/01, 14:35, 2401464476, run, INFO: Crawled: https://bakhshiali.github.io/publication/4\n",
      "2023/01, 14:35, 2401464476, run, INFO: Crawled: https://bakhshiali.github.io/publication/3\n",
      "2023/01, 14:35, 2401464476, run, INFO: Crawled: https://bakhshiali.github.io/publication/2\n",
      "2023/01, 14:35, 2401464476, run, INFO: Crawled: https://bakhshiali.github.io/publication/1\n"
     ]
    },
    {
     "name": "stdout",
     "output_type": "stream",
     "text": [
      "2023/01, 14:35, 2401464476, run, INFO: Crawled: https://bakhshiali.github.io/publication\n",
      "2023/01, 14:35, 2401464476, run, INFO: Crawled: https://bakhshiali.github.io/publications/\n",
      "2023/01, 14:35, 2401464476, run, INFO: Crawled: https://bakhshiali.github.io/publication/8\n",
      "2023/01, 14:35, 2401464476, run, INFO: Crawled: https://bakhshiali.github.io/publication/7\n",
      "2023/01, 14:35, 2401464476, run, INFO: Crawled: https://bakhshiali.github.io/publication/6\n",
      "2023/01, 14:35, 2401464476, run, INFO: Crawled: https://bakhshiali.github.io/publication/5\n",
      "2023/01, 14:35, 2401464476, run, INFO: Crawled: https://bakhshiali.github.io/publication/4\n",
      "2023/01, 14:35, 2401464476, run, INFO: Crawled: https://bakhshiali.github.io/publication/3\n",
      "2023/01, 14:35, 2401464476, run, INFO: Crawled: https://bakhshiali.github.io/publication/2\n",
      "2023/01, 14:35, 2401464476, run, INFO: Crawled: https://bakhshiali.github.io/publication/1\n",
      "\n"
     ]
    }
   ],
   "source": [
    "from urllib.parse import urljoin\n",
    "import requests\n",
    "from bs4 import BeautifulSoup\n",
    "from copy import deepcopy\n",
    "import logging\n",
    "FORMAT = '%(asctime)s, %(module)s, %(funcName)s, %(levelname)s:%(message)s'\n",
    "stream_handler = logging.StreamHandler()\n",
    "stream_handler.setLevel(logging.INFO)\n",
    "logging.basicConfig(\n",
    "    format=FORMAT,\n",
    "    level=logging.INFO,#logging.DEBUG\n",
    "    datefmt='%Y/%m, %H:%M',\n",
    "    #just write to file\n",
    "    #filename='urlMapCrawled.txt',#filemode='w'\n",
    "    #write to file and print out, w: write/create, +: update, a: append\n",
    "    handlers=[logging.FileHandler(\"urlMapCrawled.txt\", mode='w+'), stream_handler]\n",
    ")\n",
    "class urlMapCrawler:\n",
    "    #initiantion\n",
    "    def __init__(self, urls=[]):\n",
    "        self.primary_url=deepcopy(urls[0]) #exact copy\n",
    "        self.crawed_urls = []\n",
    "        self.urls_to_crawl = urls\n",
    "    #find links in response, \n",
    "    #note that\n",
    "        # 1) default: urljoin will concatenate url of website with href with ignorance of paths provided by url\n",
    "        # 2) by defalut the code ignores url's paths with */*.js or ... \n",
    "        # 3) buttons with onclick events may not be consifered.\n",
    "    def find_links(self, url, html):\n",
    "        soup = BeautifulSoup(html, 'html.parser')\n",
    "        for link in soup.find_all('a'):\n",
    "            path = link.get('href')\n",
    "            if path and path.startswith('/'):\n",
    "                path = urljoin(url, path)\n",
    "            yield path\n",
    "    #if new related urls get discovered, they'll be added to sheduled lists to be crawled.\n",
    "    def url_to_crawl(self, url):\n",
    "        if url not in self.crawed_urls:\n",
    "            self.urls_to_crawl.append(url)\n",
    "    #main crawl function, check & add every urls in responses to crawling list.\n",
    "    def crawl(self, url):\n",
    "        html = requests.get(url).text\n",
    "        for every_urls in self.find_links(url, html):\n",
    "            #find the urls with deeper paths/subdirectories with respect to the provided url by user\n",
    "            #check the None state of founded urls and be sure not included in crawling shedule.\n",
    "            if every_urls != None and every_urls.startswith(self.primary_url):\n",
    "                self.url_to_crawl(every_urls)\n",
    "    #run function till we have url to crawl; in respect to crawl funrtion terms, available urls are subdirectories\n",
    "    def run(self):\n",
    "        while self.urls_to_crawl:\n",
    "            #remove the crawel url using \"pop\" from the list\n",
    "            first_url = self.urls_to_crawl.pop(0)\n",
    "            if first_url not in self.crawed_urls:     \n",
    "                logging.info(f' Crawled: {first_url}')\n",
    "                try:\n",
    "                    self.crawl(first_url)\n",
    "                except Exception:\n",
    "                    logging.exception(f' Crawling failed : {first_url}')\n",
    "                finally:\n",
    "                    self.crawed_urls.append(first_url)\n",
    "#url list to be crawled\n",
    "urls=['https://bakhshiali.github.io/publication',\n",
    "     ]\n",
    "if __name__ == '__main__':\n",
    "    #call the run function in main to crawl url list.\n",
    "    [urlMapCrawler(urls=[i]).run() for i in urls]\n",
    "    #print the logged file\n",
    "    with open(\"urlMapCrawled.txt\") as f:\n",
    "        print (f.read())\n",
    "    #logging.shutdown()\n"
   ]
  }
 ],
 "metadata": {
  "kernelspec": {
   "display_name": "Python 3 (ipykernel)",
   "language": "python",
   "name": "python3"
  },
  "language_info": {
   "codemirror_mode": {
    "name": "ipython",
    "version": 3
   },
   "file_extension": ".py",
   "mimetype": "text/x-python",
   "name": "python",
   "nbconvert_exporter": "python",
   "pygments_lexer": "ipython3",
   "version": "3.10.8"
  }
 },
 "nbformat": 4,
 "nbformat_minor": 4
}
